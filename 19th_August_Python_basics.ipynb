{
 "cells": [
  {
   "cell_type": "markdown",
   "id": "4e4e0f3f",
   "metadata": {},
   "source": [
    "# #Declare two variables, `x` and `y`, and assign them integer values. Swap the values of these variables without using any temporary variable."
   ]
  },
  {
   "cell_type": "code",
   "execution_count": 1,
   "id": "5d48d0f2",
   "metadata": {},
   "outputs": [
    {
     "name": "stdout",
     "output_type": "stream",
     "text": [
      "enter number x:2\n",
      "enter number y:22\n",
      "After swapping\n",
      "value of x is 22\n",
      "value of y is 2\n"
     ]
    }
   ],
   "source": [
    "# step 1: Declare and initialize variables\n",
    "x=int(input(\"enter number x:\"))\n",
    "y=int(input(\"enter number y:\"))\n",
    "# step 2: Creating function to swap the variable\n",
    "x = x - y\n",
    "y = x + y\n",
    "x = y - x\n",
    "print(\"After swapping\")\n",
    "print(\"value of x is\",x)\n",
    "print(\"value of y is\",y)"
   ]
  },
  {
   "cell_type": "markdown",
   "id": "cd4c1efe",
   "metadata": {},
   "source": [
    "# # Without user input "
   ]
  },
  {
   "cell_type": "code",
   "execution_count": 4,
   "id": "dd1f8d96",
   "metadata": {},
   "outputs": [
    {
     "name": "stdout",
     "output_type": "stream",
     "text": [
      "5 10\n"
     ]
    }
   ],
   "source": [
    "x = 10\n",
    "y = 5\n",
    "\n",
    "# Swap the values of x and y without using any temporary variable\n",
    "x = x + y\n",
    "y = x - y\n",
    "x = x - y\n",
    "\n",
    "print(x, y)"
   ]
  },
  {
   "cell_type": "markdown",
   "id": "feba6c55",
   "metadata": {},
   "source": [
    "# # Create a program that calculates the area of a rectangle. Take the length and width as inputs from the user and store them in variables. Calculate and display the area."
   ]
  },
  {
   "cell_type": "code",
   "execution_count": 6,
   "id": "50e6173f",
   "metadata": {},
   "outputs": [
    {
     "name": "stdout",
     "output_type": "stream",
     "text": [
      "Enter the length of the rectangel:12\n",
      "Enter the width of the rectangel:9\n",
      "The area of the rectangel is 108.0\n"
     ]
    }
   ],
   "source": [
    "# step 1: Get input  form the user for length and width\n",
    "length = float(input(\"Enter the length of the rectangel:\"))\n",
    "width = float(input(\"Enter the width of the rectangel:\"))\n",
    "# step 2: Calculate the area  of the rectabgle using the formula: area = length * width\n",
    "area = length*width\n",
    "# step 3: Display the calculated area to the user\n",
    "print(\"The area of the rectangel is\", area)"
   ]
  },
  {
   "cell_type": "markdown",
   "id": "10e75e27",
   "metadata": {},
   "source": [
    "# # Write a Python program that converts temperatures from Celsius to Fahrenheit. Take the temperature in Celsius as input, store it in a variable, convert it to Fahrenheit, and display the result."
   ]
  },
  {
   "cell_type": "code",
   "execution_count": 8,
   "id": "064427e0",
   "metadata": {},
   "outputs": [
    {
     "name": "stdout",
     "output_type": "stream",
     "text": [
      "enter temperature in celsius:11\n",
      "11.0 celsius is equal to 51.80 fahrenheit\n"
     ]
    }
   ],
   "source": [
    "# step 1: Get the temperature in celsius from the user\n",
    "celsius_temperature = float(input(\"enter temperature in celsius:\"))\n",
    "\n",
    "# step 2: convert celsius to fahrenheit using the formula: (c * 9/5) +32\n",
    "fahrenheit_temperature = (celsius_temperature * 9/5) +32\n",
    "# step 3: Display the converted temperature in fahrenheit\n",
    "print(f\"{celsius_temperature} celsius is equal to {fahrenheit_temperature:.2f} fahrenheit\")"
   ]
  },
  {
   "cell_type": "markdown",
   "id": "c93a8086",
   "metadata": {},
   "source": [
    "# String Based Questions"
   ]
  },
  {
   "cell_type": "markdown",
   "id": "029a48d4",
   "metadata": {},
   "source": [
    "# # Write a Python program that takes a string as input and prints the length of the string."
   ]
  },
  {
   "cell_type": "code",
   "execution_count": 12,
   "id": "290dcc3a",
   "metadata": {},
   "outputs": [
    {
     "name": "stdout",
     "output_type": "stream",
     "text": [
      "enter a string:pwskills\n",
      "the length of the input string is: 8\n"
     ]
    }
   ],
   "source": [
    "# step 1: Get input from the user\n",
    "string = input(\"enter a string:\")\n",
    "# step 2: calculate the length of the input string using the built-in function which is len()\n",
    "length = len(string)\n",
    "# step 3: print the length of the string\n",
    "print(\"the length of the input string is:\",length)"
   ]
  },
  {
   "cell_type": "markdown",
   "id": "fb0f56de",
   "metadata": {},
   "source": [
    "# #Create a program that takes a sentence from the user and counts the number of vowels (a, e, i, o, u) in the string."
   ]
  },
  {
   "cell_type": "code",
   "execution_count": 17,
   "id": "2dffbcd7",
   "metadata": {},
   "outputs": [
    {
     "name": "stdout",
     "output_type": "stream",
     "text": [
      "enter a sentence:hii good morning how are you\n",
      "The number of vowels in the sentence is 11\n"
     ]
    }
   ],
   "source": [
    "# step 1: Get input from the user\n",
    "sentence = input(\"enter a sentence:\")\n",
    "\n",
    "# step 2: Initialize a variable to count the vowels\n",
    "vowel_count = 0\n",
    "for char in sentence:\n",
    "    if char in [\"a\", \"e\",\"i\",\"o\",\"u\"]:\n",
    "        vowel_count +=1\n",
    "    \n",
    "# Display the number of vowels in the sentence\n",
    "print(\"The number of vowels in the sentence is\", vowel_count)\n",
    "\n"
   ]
  },
  {
   "cell_type": "markdown",
   "id": "7f776631",
   "metadata": {},
   "source": [
    "# #Given a string, reverse the order of characters using string slicing and print the reversed string."
   ]
  },
  {
   "cell_type": "code",
   "execution_count": 19,
   "id": "d23ced7a",
   "metadata": {},
   "outputs": [
    {
     "name": "stdout",
     "output_type": "stream",
     "text": [
      "enter a string:pwskills\n",
      "reversed string: sllikswp\n"
     ]
    }
   ],
   "source": [
    "# step 1: Get the input string from the user\n",
    "string = input(\"enter a string:\")\n",
    "# step 2: Use string slicing to reverse the string\n",
    "# syntax [start:end:step]\n",
    "\n",
    "reversed_string = string[::-1]\n",
    "\n",
    "# step 3: Print the reversed string\n",
    "print(\"reversed string:\",reversed_string)"
   ]
  },
  {
   "cell_type": "markdown",
   "id": "5d1da526",
   "metadata": {},
   "source": [
    "## Write a program that takes a string as input and checks if it is a palindrome (reads the same forwards and backwards)."
   ]
  },
  {
   "cell_type": "code",
   "execution_count": 25,
   "id": "58bf7c02",
   "metadata": {},
   "outputs": [
    {
     "name": "stdout",
     "output_type": "stream",
     "text": [
      "enter a string99\n",
      "this string is a palindrome\n"
     ]
    }
   ],
   "source": [
    "# step 1: Get input from the user\n",
    "string = input(\"enter a string\")\n",
    "\n",
    "# step 2: remove spaces and convert the input string to lowercase\n",
    "cleaned_string = string.replace(\" \",\" \").lower()\n",
    "\n",
    "# step 3: reverse the cleaned string using slicing\n",
    "reversed_string = cleaned_string[::-1]\n",
    "\n",
    "# step 4:compare the cleaned string with its reverse to check for palindrome.\n",
    "if cleaned_string == reversed_string:\n",
    "    print(\"this string is a palindrome\")\n",
    "else:\n",
    "    print(\"this string is not a palindrome\")"
   ]
  },
  {
   "cell_type": "markdown",
   "id": "2040a373",
   "metadata": {},
   "source": [
    "## Create a program that takes a string as input and removes all the spaces from it. Print the modified string without spaces."
   ]
  },
  {
   "cell_type": "code",
   "execution_count": 26,
   "id": "0241e557",
   "metadata": {},
   "outputs": [
    {
     "name": "stdout",
     "output_type": "stream",
     "text": [
      "enter a string:hey! how are you \n",
      "modified string without spaces: hey!howareyou\n"
     ]
    }
   ],
   "source": [
    "# step 1: Take input form the user \n",
    "string =  input(\"enter a string:\")\n",
    "\n",
    "# step 2: Initialize an empty string to store the modified string without spaces\n",
    "modified_string= \"\"\n",
    "\n",
    "# step 3: Ierate through each character in the input string\n",
    "for char in string:\n",
    "# step 4: Check if the character is not a space\n",
    "     if char !=\" \":\n",
    "# step 5: If not a space, append the character to the modified string\n",
    "         modified_string +=char\n",
    "\n",
    "\n",
    "# step 6: Print the modified string without spaces\n",
    "print(\"modified string without spaces:\",modified_string)\n",
    "    "
   ]
  },
  {
   "cell_type": "code",
   "execution_count": null,
   "id": "5d06e5c5",
   "metadata": {},
   "outputs": [],
   "source": []
  }
 ],
 "metadata": {
  "kernelspec": {
   "display_name": "Python 3 (ipykernel)",
   "language": "python",
   "name": "python3"
  },
  "language_info": {
   "codemirror_mode": {
    "name": "ipython",
    "version": 3
   },
   "file_extension": ".py",
   "mimetype": "text/x-python",
   "name": "python",
   "nbconvert_exporter": "python",
   "pygments_lexer": "ipython3",
   "version": "3.9.7"
  }
 },
 "nbformat": 4,
 "nbformat_minor": 5
}
